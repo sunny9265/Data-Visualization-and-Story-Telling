{
 "cells": [
  {
   "cell_type": "markdown",
   "id": "7d44816d",
   "metadata": {},
   "source": [
    "## Data Cleaning and PreProcessing for Data Visualization\n",
    "### - Airlines Delay and Cancellations"
   ]
  },
  {
   "cell_type": "markdown",
   "id": "33436feb",
   "metadata": {},
   "source": [
    "#### Importing the required libraries\n",
    "\n",
    "##### Pandas and numpy for Data Manipulation\n",
    "##### os to set the working directory\n",
    "##### airportsdata to fetch the latitude and longitude of the airport"
   ]
  },
  {
   "cell_type": "code",
   "execution_count": 2,
   "id": "8cd94799",
   "metadata": {},
   "outputs": [],
   "source": [
    "import pandas as pd\n",
    "import numpy as np\n",
    "import os\n",
    "import airportsdata\n",
    "airports = airportsdata.load('IATA')"
   ]
  },
  {
   "cell_type": "markdown",
   "id": "2d959adc",
   "metadata": {},
   "source": [
    "##### Check the current working directory"
   ]
  },
  {
   "cell_type": "code",
   "execution_count": 2,
   "id": "5a2b22de",
   "metadata": {},
   "outputs": [
    {
     "data": {
      "text/plain": [
       "'/Users/satyanarayanakakarla/Downloads'"
      ]
     },
     "execution_count": 2,
     "metadata": {},
     "output_type": "execute_result"
    }
   ],
   "source": [
    "os.getcwd()"
   ]
  },
  {
   "cell_type": "markdown",
   "id": "71f575db",
   "metadata": {},
   "source": [
    "##### Converting the reason of delay to categorical column"
   ]
  },
  {
   "cell_type": "code",
   "execution_count": 53,
   "id": "c96dd4c1",
   "metadata": {},
   "outputs": [],
   "source": [
    "def get_delay_code(x):\n",
    "    if x.CARRIER_DELAY > 0:\n",
    "        return 'Carrier'\n",
    "    elif x.WEATHER_DELAY > 0:\n",
    "        return 'Weather'\n",
    "    elif x.NAS_DELAY > 0:\n",
    "        return 'NAS'\n",
    "    elif x.SECURITY_DELAY > 0:\n",
    "        return 'Security'\n",
    "    elif x.LATE_AIRCRAFT_DELAY > 0:\n",
    "        return 'Aircraft'\n",
    "    elif x.ARR_DELAY > 0 and x.ARR_DELAY < 15:\n",
    "        return '< 15 min'"
   ]
  },
  {
   "cell_type": "markdown",
   "id": "68e34ca4",
   "metadata": {},
   "source": [
    "##### Reading all the data files and taking sample of them since they are huge\n",
    "##### 1. Columns with null values > 75 are removed from the dataset.\n",
    "##### 2. Sample is representative of the original data with extra weight given to Cancelled rows since they are very low."
   ]
  },
  {
   "cell_type": "code",
   "execution_count": null,
   "id": "8048bb04",
   "metadata": {
    "scrolled": true
   },
   "outputs": [],
   "source": [
    "data_dict = {}\n",
    "year = 2009\n",
    "while year < 2019:\n",
    "    data_df = pd.read_csv(f'archive (6)/{year}.csv')\n",
    "    null_df = pd.DataFrame(data_df.isnull().sum() / data_df.shape[0] * 100)\n",
    "    null_df = null_df.reset_index().rename(columns={'index': 'ColName', 0: 'Percent'})\n",
    "    subset_columns = list(null_df[(null_df.Percent > 0) & (null_df.Percent < 5) ].ColName.unique())\n",
    "    cols_to_drop = list(null_df[null_df.Percent > 75].ColName.unique())\n",
    "    data_df['ARR_DELAY_CODE'] = data_df[['ARR_DELAY', 'CARRIER_DELAY', 'WEATHER_DELAY', 'NAS_DELAY', 'SECURITY_DELAY', 'LATE_AIRCRAFT_DELAY']].apply(lambda x: get_delay_code(x), axis = 1)\n",
    "    data_df.drop(columns=cols_to_drop, inplace = True)\n",
    "    data_df.dropna(subset=subset_columns, inplace=True)\n",
    "    if data_df.CANCELLED.sum() > 0:\n",
    "        print(f\"Total flights Cancelled: {data_df.CANCELLED.sum()}. Year: {year}\")\n",
    "        sample_data_df = data_df.sample(frac=0.20, weights = 'CANCELLED')\n",
    "    else:\n",
    "        sample_data_df = data_df.sample(frac=0.20)\n",
    "    sample_data_df.to_parquet(f'archive (6)/{year}_cleaned_sample.csv')\n",
    "    data_dict[year] = sample_data_df\n",
    "    print(f\"Done for {year}\")\n",
    "    year = year + 1"
   ]
  },
  {
   "cell_type": "markdown",
   "id": "57f3b82e",
   "metadata": {},
   "source": [
    "##### Concatenating the final data"
   ]
  },
  {
   "cell_type": "code",
   "execution_count": null,
   "id": "84c9d7c0",
   "metadata": {},
   "outputs": [],
   "source": [
    "final_df = pd.concat(data_dict.values())\n",
    "final_df.shape"
   ]
  },
  {
   "cell_type": "markdown",
   "id": "fea94fe5",
   "metadata": {},
   "source": [
    "##### Writing the final data to a csv"
   ]
  },
  {
   "cell_type": "code",
   "execution_count": null,
   "id": "e8d82694",
   "metadata": {},
   "outputs": [],
   "source": [
    "final_df.to_csv('archive (6)/final_data.csv')"
   ]
  },
  {
   "cell_type": "code",
   "execution_count": 4,
   "id": "59ad6ad2",
   "metadata": {},
   "outputs": [],
   "source": [
    "final_df = pd.read_csv('archive (6)/final_data.csv')"
   ]
  },
  {
   "cell_type": "markdown",
   "id": "54e4ee1d",
   "metadata": {},
   "source": [
    "##### Taking a sample again of the final dataset because it is still huge"
   ]
  },
  {
   "cell_type": "code",
   "execution_count": 5,
   "id": "0681f906",
   "metadata": {},
   "outputs": [
    {
     "data": {
      "text/plain": [
       "(2417241, 23)"
      ]
     },
     "execution_count": 5,
     "metadata": {},
     "output_type": "execute_result"
    }
   ],
   "source": [
    "final_df_1 = final_df.sample(frac=0.20)\n",
    "final_df_1.shape"
   ]
  },
  {
   "cell_type": "markdown",
   "id": "d8315e37",
   "metadata": {},
   "source": [
    "##### Getting the airport latitude and longitude"
   ]
  },
  {
   "cell_type": "code",
   "execution_count": 6,
   "id": "295bc00e",
   "metadata": {},
   "outputs": [],
   "source": [
    "final_df_1['ORG_LAT'] = final_df_1['ORIGIN'].apply(lambda x: airports[x].get('lat') if airports.get(x) is not None else np.nan)\n",
    "final_df_1['ORG_LON'] = final_df_1['ORIGIN'].apply(lambda x: airports[x].get('lon') if airports.get(x) is not None else np.nan)\n",
    "\n",
    "final_df_1['DEST_LAT'] = final_df_1['DEST'].apply(lambda x: airports[x].get('lat') if airports.get(x) is not None else np.nan)\n",
    "final_df_1['DEST_LON'] = final_df_1['DEST'].apply(lambda x: airports[x].get('lon') if airports.get(x) is not None else np.nan)"
   ]
  },
  {
   "cell_type": "markdown",
   "id": "4826d894",
   "metadata": {},
   "source": [
    "##### Writing the final output to a cav"
   ]
  },
  {
   "cell_type": "code",
   "execution_count": 7,
   "id": "62a57a62",
   "metadata": {},
   "outputs": [],
   "source": [
    "final_df_1.to_csv('archive (6)/final_data_1.csv')"
   ]
  },
  {
   "cell_type": "markdown",
   "id": "4dd04b1b",
   "metadata": {},
   "source": [
    "##### Read the data"
   ]
  },
  {
   "cell_type": "code",
   "execution_count": 3,
   "id": "ac81913a",
   "metadata": {},
   "outputs": [],
   "source": [
    "final_df_1 = pd.read_csv('archive (6)/final_data_1.csv')"
   ]
  },
  {
   "cell_type": "code",
   "execution_count": 4,
   "id": "cc676771",
   "metadata": {},
   "outputs": [
    {
     "data": {
      "text/html": [
       "<div>\n",
       "<style scoped>\n",
       "    .dataframe tbody tr th:only-of-type {\n",
       "        vertical-align: middle;\n",
       "    }\n",
       "\n",
       "    .dataframe tbody tr th {\n",
       "        vertical-align: top;\n",
       "    }\n",
       "\n",
       "    .dataframe thead th {\n",
       "        text-align: right;\n",
       "    }\n",
       "</style>\n",
       "<table border=\"1\" class=\"dataframe\">\n",
       "  <thead>\n",
       "    <tr style=\"text-align: right;\">\n",
       "      <th></th>\n",
       "      <th>Unnamed: 0.1</th>\n",
       "      <th>Unnamed: 0</th>\n",
       "      <th>FL_DATE</th>\n",
       "      <th>OP_CARRIER</th>\n",
       "      <th>OP_CARRIER_FL_NUM</th>\n",
       "      <th>ORIGIN</th>\n",
       "      <th>DEST</th>\n",
       "      <th>CRS_DEP_TIME</th>\n",
       "      <th>DEP_TIME</th>\n",
       "      <th>DEP_DELAY</th>\n",
       "      <th>...</th>\n",
       "      <th>DIVERTED</th>\n",
       "      <th>CRS_ELAPSED_TIME</th>\n",
       "      <th>ACTUAL_ELAPSED_TIME</th>\n",
       "      <th>AIR_TIME</th>\n",
       "      <th>DISTANCE</th>\n",
       "      <th>ARR_DELAY_CODE</th>\n",
       "      <th>ORG_LAT</th>\n",
       "      <th>ORG_LON</th>\n",
       "      <th>DEST_LAT</th>\n",
       "      <th>DEST_LON</th>\n",
       "    </tr>\n",
       "  </thead>\n",
       "  <tbody>\n",
       "    <tr>\n",
       "      <th>0</th>\n",
       "      <td>7437521</td>\n",
       "      <td>2319920</td>\n",
       "      <td>2015-05-27</td>\n",
       "      <td>AA</td>\n",
       "      <td>1343</td>\n",
       "      <td>DSM</td>\n",
       "      <td>DFW</td>\n",
       "      <td>720.0</td>\n",
       "      <td>727.0</td>\n",
       "      <td>7.0</td>\n",
       "      <td>...</td>\n",
       "      <td>0.0</td>\n",
       "      <td>124.0</td>\n",
       "      <td>118.0</td>\n",
       "      <td>88.0</td>\n",
       "      <td>624.0</td>\n",
       "      <td>&lt; 15 min</td>\n",
       "      <td>41.533973</td>\n",
       "      <td>-93.663072</td>\n",
       "      <td>32.897233</td>\n",
       "      <td>-97.037695</td>\n",
       "    </tr>\n",
       "    <tr>\n",
       "      <th>1</th>\n",
       "      <td>1530145</td>\n",
       "      <td>3886590</td>\n",
       "      <td>2010-08-08</td>\n",
       "      <td>US</td>\n",
       "      <td>258</td>\n",
       "      <td>PHX</td>\n",
       "      <td>PHL</td>\n",
       "      <td>2235.0</td>\n",
       "      <td>2231.0</td>\n",
       "      <td>-4.0</td>\n",
       "      <td>...</td>\n",
       "      <td>0.0</td>\n",
       "      <td>269.0</td>\n",
       "      <td>265.0</td>\n",
       "      <td>244.0</td>\n",
       "      <td>2075.0</td>\n",
       "      <td>NaN</td>\n",
       "      <td>33.434278</td>\n",
       "      <td>-112.011583</td>\n",
       "      <td>39.872084</td>\n",
       "      <td>-75.240663</td>\n",
       "    </tr>\n",
       "    <tr>\n",
       "      <th>2</th>\n",
       "      <td>5826758</td>\n",
       "      <td>3501907</td>\n",
       "      <td>2013-07-19</td>\n",
       "      <td>VX</td>\n",
       "      <td>964</td>\n",
       "      <td>SFO</td>\n",
       "      <td>SAN</td>\n",
       "      <td>1945.0</td>\n",
       "      <td>1945.0</td>\n",
       "      <td>0.0</td>\n",
       "      <td>...</td>\n",
       "      <td>0.0</td>\n",
       "      <td>90.0</td>\n",
       "      <td>90.0</td>\n",
       "      <td>77.0</td>\n",
       "      <td>447.0</td>\n",
       "      <td>NaN</td>\n",
       "      <td>37.618806</td>\n",
       "      <td>-122.375417</td>\n",
       "      <td>32.733563</td>\n",
       "      <td>-117.189663</td>\n",
       "    </tr>\n",
       "    <tr>\n",
       "      <th>3</th>\n",
       "      <td>7679157</td>\n",
       "      <td>2506142</td>\n",
       "      <td>2015-06-08</td>\n",
       "      <td>AA</td>\n",
       "      <td>1249</td>\n",
       "      <td>LAX</td>\n",
       "      <td>ATL</td>\n",
       "      <td>1000.0</td>\n",
       "      <td>1000.0</td>\n",
       "      <td>0.0</td>\n",
       "      <td>...</td>\n",
       "      <td>0.0</td>\n",
       "      <td>267.0</td>\n",
       "      <td>253.0</td>\n",
       "      <td>224.0</td>\n",
       "      <td>1947.0</td>\n",
       "      <td>NaN</td>\n",
       "      <td>33.942496</td>\n",
       "      <td>-118.408049</td>\n",
       "      <td>33.636700</td>\n",
       "      <td>-84.427864</td>\n",
       "    </tr>\n",
       "    <tr>\n",
       "      <th>4</th>\n",
       "      <td>4024102</td>\n",
       "      <td>2396636</td>\n",
       "      <td>2012-05-25</td>\n",
       "      <td>MQ</td>\n",
       "      <td>4347</td>\n",
       "      <td>DTW</td>\n",
       "      <td>ORD</td>\n",
       "      <td>1030.0</td>\n",
       "      <td>1022.0</td>\n",
       "      <td>-8.0</td>\n",
       "      <td>...</td>\n",
       "      <td>0.0</td>\n",
       "      <td>80.0</td>\n",
       "      <td>69.0</td>\n",
       "      <td>45.0</td>\n",
       "      <td>235.0</td>\n",
       "      <td>NaN</td>\n",
       "      <td>42.212444</td>\n",
       "      <td>-83.353389</td>\n",
       "      <td>41.976940</td>\n",
       "      <td>-87.908150</td>\n",
       "    </tr>\n",
       "  </tbody>\n",
       "</table>\n",
       "<p>5 rows × 28 columns</p>\n",
       "</div>"
      ],
      "text/plain": [
       "   Unnamed: 0.1  Unnamed: 0     FL_DATE OP_CARRIER  OP_CARRIER_FL_NUM ORIGIN  \\\n",
       "0       7437521     2319920  2015-05-27         AA               1343    DSM   \n",
       "1       1530145     3886590  2010-08-08         US                258    PHX   \n",
       "2       5826758     3501907  2013-07-19         VX                964    SFO   \n",
       "3       7679157     2506142  2015-06-08         AA               1249    LAX   \n",
       "4       4024102     2396636  2012-05-25         MQ               4347    DTW   \n",
       "\n",
       "  DEST  CRS_DEP_TIME  DEP_TIME  DEP_DELAY  ...  DIVERTED  CRS_ELAPSED_TIME  \\\n",
       "0  DFW         720.0     727.0        7.0  ...       0.0             124.0   \n",
       "1  PHL        2235.0    2231.0       -4.0  ...       0.0             269.0   \n",
       "2  SAN        1945.0    1945.0        0.0  ...       0.0              90.0   \n",
       "3  ATL        1000.0    1000.0        0.0  ...       0.0             267.0   \n",
       "4  ORD        1030.0    1022.0       -8.0  ...       0.0              80.0   \n",
       "\n",
       "   ACTUAL_ELAPSED_TIME  AIR_TIME  DISTANCE  ARR_DELAY_CODE    ORG_LAT  \\\n",
       "0                118.0      88.0     624.0        < 15 min  41.533973   \n",
       "1                265.0     244.0    2075.0             NaN  33.434278   \n",
       "2                 90.0      77.0     447.0             NaN  37.618806   \n",
       "3                253.0     224.0    1947.0             NaN  33.942496   \n",
       "4                 69.0      45.0     235.0             NaN  42.212444   \n",
       "\n",
       "      ORG_LON   DEST_LAT    DEST_LON  \n",
       "0  -93.663072  32.897233  -97.037695  \n",
       "1 -112.011583  39.872084  -75.240663  \n",
       "2 -122.375417  32.733563 -117.189663  \n",
       "3 -118.408049  33.636700  -84.427864  \n",
       "4  -83.353389  41.976940  -87.908150  \n",
       "\n",
       "[5 rows x 28 columns]"
      ]
     },
     "execution_count": 4,
     "metadata": {},
     "output_type": "execute_result"
    }
   ],
   "source": [
    "final_df_1.head()"
   ]
  },
  {
   "cell_type": "code",
   "execution_count": 33,
   "id": "222ad22a",
   "metadata": {},
   "outputs": [
    {
     "data": {
      "text/plain": [
       "Index(['Unnamed: 0.1', 'Unnamed: 0', 'FL_DATE', 'OP_CARRIER',\n",
       "       'OP_CARRIER_FL_NUM', 'ORIGIN', 'DEST', 'CRS_DEP_TIME', 'DEP_TIME',\n",
       "       'DEP_DELAY', 'TAXI_OUT', 'WHEELS_OFF', 'WHEELS_ON', 'TAXI_IN',\n",
       "       'CRS_ARR_TIME', 'ARR_TIME', 'ARR_DELAY', 'CANCELLED', 'DIVERTED',\n",
       "       'CRS_ELAPSED_TIME', 'ACTUAL_ELAPSED_TIME', 'AIR_TIME', 'DISTANCE',\n",
       "       'ARR_DELAY_CODE', 'ORG_LAT', 'ORG_LON', 'DEST_LAT', 'DEST_LON'],\n",
       "      dtype='object')"
      ]
     },
     "execution_count": 33,
     "metadata": {},
     "output_type": "execute_result"
    }
   ],
   "source": [
    "final_df_1.columns"
   ]
  },
  {
   "cell_type": "markdown",
   "id": "c0e0d11f",
   "metadata": {},
   "source": [
    "##### Creating columns for hour and minute of Scheduled Arrival, Actual Arrival, Scheduled Departure, Actual Departure"
   ]
  },
  {
   "cell_type": "code",
   "execution_count": 39,
   "id": "2367020a",
   "metadata": {},
   "outputs": [],
   "source": [
    "final_df_1['CRS_DEP_TIME_HOUR'] = final_df_1.CRS_DEP_TIME.apply(lambda x: int(x /100))\n",
    "final_df_1['CRS_DEP_TIME_MINUTE'] = final_df_1.CRS_DEP_TIME.apply(lambda x: x %100)\n",
    "final_df_1['DEP_TIME_HOUR'] = final_df_1.DEP_TIME.apply(lambda x: int(x /100))\n",
    "final_df_1['DEP_TIME_MINUTE'] = final_df_1.DEP_TIME.apply(lambda x: x %100)\n",
    "\n",
    "final_df_1['CRS_ARR_TIME_HOUR'] = final_df_1.CRS_ARR_TIME.apply(lambda x: int(x /100))\n",
    "final_df_1['CRS_ARR_TIME_MINUTE'] = final_df_1.CRS_ARR_TIME.apply(lambda x: x %100)\n",
    "final_df_1['ARR_TIME_HOUR'] = final_df_1.ARR_TIME.apply(lambda x: int(x /100))\n",
    "final_df_1['ARR_TIME_MINUTE'] = final_df_1.ARR_TIME.apply(lambda x: x %100)"
   ]
  },
  {
   "cell_type": "code",
   "execution_count": 40,
   "id": "d01572df",
   "metadata": {},
   "outputs": [
    {
     "data": {
      "text/html": [
       "<div>\n",
       "<style scoped>\n",
       "    .dataframe tbody tr th:only-of-type {\n",
       "        vertical-align: middle;\n",
       "    }\n",
       "\n",
       "    .dataframe tbody tr th {\n",
       "        vertical-align: top;\n",
       "    }\n",
       "\n",
       "    .dataframe thead th {\n",
       "        text-align: right;\n",
       "    }\n",
       "</style>\n",
       "<table border=\"1\" class=\"dataframe\">\n",
       "  <thead>\n",
       "    <tr style=\"text-align: right;\">\n",
       "      <th></th>\n",
       "      <th>Unnamed: 0.1</th>\n",
       "      <th>Unnamed: 0</th>\n",
       "      <th>FL_DATE</th>\n",
       "      <th>OP_CARRIER</th>\n",
       "      <th>OP_CARRIER_FL_NUM</th>\n",
       "      <th>ORIGIN</th>\n",
       "      <th>DEST</th>\n",
       "      <th>CRS_DEP_TIME</th>\n",
       "      <th>DEP_TIME</th>\n",
       "      <th>DEP_DELAY</th>\n",
       "      <th>...</th>\n",
       "      <th>DEST_LAT</th>\n",
       "      <th>DEST_LON</th>\n",
       "      <th>CRS_DEP_TIME_HOUR</th>\n",
       "      <th>CRS_DEP_TIME_MINUTE</th>\n",
       "      <th>DEP_TIME_HOUR</th>\n",
       "      <th>DEP_TIME_MINUTE</th>\n",
       "      <th>CRS_ARR_TIME_HOUR</th>\n",
       "      <th>CRS_ARR_TIME_MINUTE</th>\n",
       "      <th>ARR_TIME_HOUR</th>\n",
       "      <th>ARR_TIME_MINUTE</th>\n",
       "    </tr>\n",
       "  </thead>\n",
       "  <tbody>\n",
       "    <tr>\n",
       "      <th>0</th>\n",
       "      <td>7437521</td>\n",
       "      <td>2319920</td>\n",
       "      <td>2015-05-27</td>\n",
       "      <td>AA</td>\n",
       "      <td>1343</td>\n",
       "      <td>DSM</td>\n",
       "      <td>DFW</td>\n",
       "      <td>720.0</td>\n",
       "      <td>727.0</td>\n",
       "      <td>7.0</td>\n",
       "      <td>...</td>\n",
       "      <td>32.897233</td>\n",
       "      <td>-97.037695</td>\n",
       "      <td>7</td>\n",
       "      <td>20.0</td>\n",
       "      <td>7</td>\n",
       "      <td>27.0</td>\n",
       "      <td>9</td>\n",
       "      <td>24.0</td>\n",
       "      <td>9</td>\n",
       "      <td>25.0</td>\n",
       "    </tr>\n",
       "    <tr>\n",
       "      <th>1</th>\n",
       "      <td>1530145</td>\n",
       "      <td>3886590</td>\n",
       "      <td>2010-08-08</td>\n",
       "      <td>US</td>\n",
       "      <td>258</td>\n",
       "      <td>PHX</td>\n",
       "      <td>PHL</td>\n",
       "      <td>2235.0</td>\n",
       "      <td>2231.0</td>\n",
       "      <td>-4.0</td>\n",
       "      <td>...</td>\n",
       "      <td>39.872084</td>\n",
       "      <td>-75.240663</td>\n",
       "      <td>22</td>\n",
       "      <td>35.0</td>\n",
       "      <td>22</td>\n",
       "      <td>31.0</td>\n",
       "      <td>6</td>\n",
       "      <td>4.0</td>\n",
       "      <td>5</td>\n",
       "      <td>56.0</td>\n",
       "    </tr>\n",
       "    <tr>\n",
       "      <th>2</th>\n",
       "      <td>5826758</td>\n",
       "      <td>3501907</td>\n",
       "      <td>2013-07-19</td>\n",
       "      <td>VX</td>\n",
       "      <td>964</td>\n",
       "      <td>SFO</td>\n",
       "      <td>SAN</td>\n",
       "      <td>1945.0</td>\n",
       "      <td>1945.0</td>\n",
       "      <td>0.0</td>\n",
       "      <td>...</td>\n",
       "      <td>32.733563</td>\n",
       "      <td>-117.189663</td>\n",
       "      <td>19</td>\n",
       "      <td>45.0</td>\n",
       "      <td>19</td>\n",
       "      <td>45.0</td>\n",
       "      <td>21</td>\n",
       "      <td>15.0</td>\n",
       "      <td>21</td>\n",
       "      <td>15.0</td>\n",
       "    </tr>\n",
       "    <tr>\n",
       "      <th>3</th>\n",
       "      <td>7679157</td>\n",
       "      <td>2506142</td>\n",
       "      <td>2015-06-08</td>\n",
       "      <td>AA</td>\n",
       "      <td>1249</td>\n",
       "      <td>LAX</td>\n",
       "      <td>ATL</td>\n",
       "      <td>1000.0</td>\n",
       "      <td>1000.0</td>\n",
       "      <td>0.0</td>\n",
       "      <td>...</td>\n",
       "      <td>33.636700</td>\n",
       "      <td>-84.427864</td>\n",
       "      <td>10</td>\n",
       "      <td>0.0</td>\n",
       "      <td>10</td>\n",
       "      <td>0.0</td>\n",
       "      <td>17</td>\n",
       "      <td>27.0</td>\n",
       "      <td>17</td>\n",
       "      <td>13.0</td>\n",
       "    </tr>\n",
       "    <tr>\n",
       "      <th>4</th>\n",
       "      <td>4024102</td>\n",
       "      <td>2396636</td>\n",
       "      <td>2012-05-25</td>\n",
       "      <td>MQ</td>\n",
       "      <td>4347</td>\n",
       "      <td>DTW</td>\n",
       "      <td>ORD</td>\n",
       "      <td>1030.0</td>\n",
       "      <td>1022.0</td>\n",
       "      <td>-8.0</td>\n",
       "      <td>...</td>\n",
       "      <td>41.976940</td>\n",
       "      <td>-87.908150</td>\n",
       "      <td>10</td>\n",
       "      <td>30.0</td>\n",
       "      <td>10</td>\n",
       "      <td>22.0</td>\n",
       "      <td>10</td>\n",
       "      <td>50.0</td>\n",
       "      <td>10</td>\n",
       "      <td>31.0</td>\n",
       "    </tr>\n",
       "  </tbody>\n",
       "</table>\n",
       "<p>5 rows × 36 columns</p>\n",
       "</div>"
      ],
      "text/plain": [
       "   Unnamed: 0.1  Unnamed: 0     FL_DATE OP_CARRIER  OP_CARRIER_FL_NUM ORIGIN  \\\n",
       "0       7437521     2319920  2015-05-27         AA               1343    DSM   \n",
       "1       1530145     3886590  2010-08-08         US                258    PHX   \n",
       "2       5826758     3501907  2013-07-19         VX                964    SFO   \n",
       "3       7679157     2506142  2015-06-08         AA               1249    LAX   \n",
       "4       4024102     2396636  2012-05-25         MQ               4347    DTW   \n",
       "\n",
       "  DEST  CRS_DEP_TIME  DEP_TIME  DEP_DELAY  ...   DEST_LAT    DEST_LON  \\\n",
       "0  DFW         720.0     727.0        7.0  ...  32.897233  -97.037695   \n",
       "1  PHL        2235.0    2231.0       -4.0  ...  39.872084  -75.240663   \n",
       "2  SAN        1945.0    1945.0        0.0  ...  32.733563 -117.189663   \n",
       "3  ATL        1000.0    1000.0        0.0  ...  33.636700  -84.427864   \n",
       "4  ORD        1030.0    1022.0       -8.0  ...  41.976940  -87.908150   \n",
       "\n",
       "   CRS_DEP_TIME_HOUR  CRS_DEP_TIME_MINUTE  DEP_TIME_HOUR  DEP_TIME_MINUTE  \\\n",
       "0                  7                 20.0              7             27.0   \n",
       "1                 22                 35.0             22             31.0   \n",
       "2                 19                 45.0             19             45.0   \n",
       "3                 10                  0.0             10              0.0   \n",
       "4                 10                 30.0             10             22.0   \n",
       "\n",
       "   CRS_ARR_TIME_HOUR  CRS_ARR_TIME_MINUTE  ARR_TIME_HOUR  ARR_TIME_MINUTE  \n",
       "0                  9                 24.0              9             25.0  \n",
       "1                  6                  4.0              5             56.0  \n",
       "2                 21                 15.0             21             15.0  \n",
       "3                 17                 27.0             17             13.0  \n",
       "4                 10                 50.0             10             31.0  \n",
       "\n",
       "[5 rows x 36 columns]"
      ]
     },
     "execution_count": 40,
     "metadata": {},
     "output_type": "execute_result"
    }
   ],
   "source": [
    "final_df_1.head()"
   ]
  },
  {
   "cell_type": "markdown",
   "id": "ef690efb",
   "metadata": {},
   "source": [
    "##### Drop the index columns "
   ]
  },
  {
   "cell_type": "code",
   "execution_count": 43,
   "id": "3819da36",
   "metadata": {},
   "outputs": [],
   "source": [
    "final_df_1.drop(columns = ['Unnamed: 0.1', 'Unnamed: 0'], inplace=True)"
   ]
  },
  {
   "cell_type": "code",
   "execution_count": 44,
   "id": "a2db32df",
   "metadata": {},
   "outputs": [],
   "source": [
    "final_df_1.to_csv('archive (6)/final_data_1.csv')"
   ]
  },
  {
   "cell_type": "code",
   "execution_count": 45,
   "id": "5af0dc65",
   "metadata": {},
   "outputs": [
    {
     "data": {
      "text/plain": [
       "(2417241, 34)"
      ]
     },
     "execution_count": 45,
     "metadata": {},
     "output_type": "execute_result"
    }
   ],
   "source": [
    "final_df_1.shape"
   ]
  },
  {
   "cell_type": "code",
   "execution_count": 46,
   "id": "2f630abf",
   "metadata": {},
   "outputs": [
    {
     "data": {
      "text/plain": [
       "Index(['FL_DATE', 'OP_CARRIER', 'OP_CARRIER_FL_NUM', 'ORIGIN', 'DEST',\n",
       "       'CRS_DEP_TIME', 'DEP_TIME', 'DEP_DELAY', 'TAXI_OUT', 'WHEELS_OFF',\n",
       "       'WHEELS_ON', 'TAXI_IN', 'CRS_ARR_TIME', 'ARR_TIME', 'ARR_DELAY',\n",
       "       'CANCELLED', 'DIVERTED', 'CRS_ELAPSED_TIME', 'ACTUAL_ELAPSED_TIME',\n",
       "       'AIR_TIME', 'DISTANCE', 'ARR_DELAY_CODE', 'ORG_LAT', 'ORG_LON',\n",
       "       'DEST_LAT', 'DEST_LON', 'CRS_DEP_TIME_HOUR', 'CRS_DEP_TIME_MINUTE',\n",
       "       'DEP_TIME_HOUR', 'DEP_TIME_MINUTE', 'CRS_ARR_TIME_HOUR',\n",
       "       'CRS_ARR_TIME_MINUTE', 'ARR_TIME_HOUR', 'ARR_TIME_MINUTE'],\n",
       "      dtype='object')"
      ]
     },
     "execution_count": 46,
     "metadata": {},
     "output_type": "execute_result"
    }
   ],
   "source": [
    "final_df_1.columns"
   ]
  },
  {
   "cell_type": "markdown",
   "id": "8295bb14",
   "metadata": {},
   "source": [
    "##### Reading the data again to get the cancellation data"
   ]
  },
  {
   "cell_type": "code",
   "execution_count": 54,
   "id": "567502d7",
   "metadata": {
    "scrolled": true
   },
   "outputs": [
    {
     "name": "stderr",
     "output_type": "stream",
     "text": [
      "/var/folders/3k/r09dxnws45j1x__8rtq396100000gn/T/ipykernel_57273/2824285735.py:10: SettingWithCopyWarning: \n",
      "A value is trying to be set on a copy of a slice from a DataFrame.\n",
      "Try using .loc[row_indexer,col_indexer] = value instead\n",
      "\n",
      "See the caveats in the documentation: https://pandas.pydata.org/pandas-docs/stable/user_guide/indexing.html#returning-a-view-versus-a-copy\n",
      "  subset_data['ARR_DELAY_CODE'] = subset_data[['ARR_DELAY', 'CARRIER_DELAY', 'WEATHER_DELAY', 'NAS_DELAY', 'SECURITY_DELAY', 'LATE_AIRCRAFT_DELAY']].apply(lambda x: get_delay_code(x), axis = 1)\n",
      "/var/folders/3k/r09dxnws45j1x__8rtq396100000gn/T/ipykernel_57273/2824285735.py:11: SettingWithCopyWarning: \n",
      "A value is trying to be set on a copy of a slice from a DataFrame\n",
      "\n",
      "See the caveats in the documentation: https://pandas.pydata.org/pandas-docs/stable/user_guide/indexing.html#returning-a-view-versus-a-copy\n",
      "  subset_data.drop(columns=cols_to_drop, inplace = True)\n",
      "/var/folders/3k/r09dxnws45j1x__8rtq396100000gn/T/ipykernel_57273/2824285735.py:12: SettingWithCopyWarning: \n",
      "A value is trying to be set on a copy of a slice from a DataFrame\n",
      "\n",
      "See the caveats in the documentation: https://pandas.pydata.org/pandas-docs/stable/user_guide/indexing.html#returning-a-view-versus-a-copy\n",
      "  subset_data.dropna(subset=subset_columns, inplace=True)\n"
     ]
    },
    {
     "name": "stdout",
     "output_type": "stream",
     "text": [
      "Done for 2009\n"
     ]
    },
    {
     "name": "stderr",
     "output_type": "stream",
     "text": [
      "/var/folders/3k/r09dxnws45j1x__8rtq396100000gn/T/ipykernel_57273/2824285735.py:10: SettingWithCopyWarning: \n",
      "A value is trying to be set on a copy of a slice from a DataFrame.\n",
      "Try using .loc[row_indexer,col_indexer] = value instead\n",
      "\n",
      "See the caveats in the documentation: https://pandas.pydata.org/pandas-docs/stable/user_guide/indexing.html#returning-a-view-versus-a-copy\n",
      "  subset_data['ARR_DELAY_CODE'] = subset_data[['ARR_DELAY', 'CARRIER_DELAY', 'WEATHER_DELAY', 'NAS_DELAY', 'SECURITY_DELAY', 'LATE_AIRCRAFT_DELAY']].apply(lambda x: get_delay_code(x), axis = 1)\n",
      "/var/folders/3k/r09dxnws45j1x__8rtq396100000gn/T/ipykernel_57273/2824285735.py:11: SettingWithCopyWarning: \n",
      "A value is trying to be set on a copy of a slice from a DataFrame\n",
      "\n",
      "See the caveats in the documentation: https://pandas.pydata.org/pandas-docs/stable/user_guide/indexing.html#returning-a-view-versus-a-copy\n",
      "  subset_data.drop(columns=cols_to_drop, inplace = True)\n",
      "/var/folders/3k/r09dxnws45j1x__8rtq396100000gn/T/ipykernel_57273/2824285735.py:12: SettingWithCopyWarning: \n",
      "A value is trying to be set on a copy of a slice from a DataFrame\n",
      "\n",
      "See the caveats in the documentation: https://pandas.pydata.org/pandas-docs/stable/user_guide/indexing.html#returning-a-view-versus-a-copy\n",
      "  subset_data.dropna(subset=subset_columns, inplace=True)\n"
     ]
    },
    {
     "name": "stdout",
     "output_type": "stream",
     "text": [
      "Done for 2010\n"
     ]
    },
    {
     "name": "stderr",
     "output_type": "stream",
     "text": [
      "/var/folders/3k/r09dxnws45j1x__8rtq396100000gn/T/ipykernel_57273/2824285735.py:10: SettingWithCopyWarning: \n",
      "A value is trying to be set on a copy of a slice from a DataFrame.\n",
      "Try using .loc[row_indexer,col_indexer] = value instead\n",
      "\n",
      "See the caveats in the documentation: https://pandas.pydata.org/pandas-docs/stable/user_guide/indexing.html#returning-a-view-versus-a-copy\n",
      "  subset_data['ARR_DELAY_CODE'] = subset_data[['ARR_DELAY', 'CARRIER_DELAY', 'WEATHER_DELAY', 'NAS_DELAY', 'SECURITY_DELAY', 'LATE_AIRCRAFT_DELAY']].apply(lambda x: get_delay_code(x), axis = 1)\n",
      "/var/folders/3k/r09dxnws45j1x__8rtq396100000gn/T/ipykernel_57273/2824285735.py:11: SettingWithCopyWarning: \n",
      "A value is trying to be set on a copy of a slice from a DataFrame\n",
      "\n",
      "See the caveats in the documentation: https://pandas.pydata.org/pandas-docs/stable/user_guide/indexing.html#returning-a-view-versus-a-copy\n",
      "  subset_data.drop(columns=cols_to_drop, inplace = True)\n",
      "/var/folders/3k/r09dxnws45j1x__8rtq396100000gn/T/ipykernel_57273/2824285735.py:12: SettingWithCopyWarning: \n",
      "A value is trying to be set on a copy of a slice from a DataFrame\n",
      "\n",
      "See the caveats in the documentation: https://pandas.pydata.org/pandas-docs/stable/user_guide/indexing.html#returning-a-view-versus-a-copy\n",
      "  subset_data.dropna(subset=subset_columns, inplace=True)\n"
     ]
    },
    {
     "name": "stdout",
     "output_type": "stream",
     "text": [
      "Done for 2011\n"
     ]
    },
    {
     "name": "stderr",
     "output_type": "stream",
     "text": [
      "/var/folders/3k/r09dxnws45j1x__8rtq396100000gn/T/ipykernel_57273/2824285735.py:10: SettingWithCopyWarning: \n",
      "A value is trying to be set on a copy of a slice from a DataFrame.\n",
      "Try using .loc[row_indexer,col_indexer] = value instead\n",
      "\n",
      "See the caveats in the documentation: https://pandas.pydata.org/pandas-docs/stable/user_guide/indexing.html#returning-a-view-versus-a-copy\n",
      "  subset_data['ARR_DELAY_CODE'] = subset_data[['ARR_DELAY', 'CARRIER_DELAY', 'WEATHER_DELAY', 'NAS_DELAY', 'SECURITY_DELAY', 'LATE_AIRCRAFT_DELAY']].apply(lambda x: get_delay_code(x), axis = 1)\n",
      "/var/folders/3k/r09dxnws45j1x__8rtq396100000gn/T/ipykernel_57273/2824285735.py:11: SettingWithCopyWarning: \n",
      "A value is trying to be set on a copy of a slice from a DataFrame\n",
      "\n",
      "See the caveats in the documentation: https://pandas.pydata.org/pandas-docs/stable/user_guide/indexing.html#returning-a-view-versus-a-copy\n",
      "  subset_data.drop(columns=cols_to_drop, inplace = True)\n",
      "/var/folders/3k/r09dxnws45j1x__8rtq396100000gn/T/ipykernel_57273/2824285735.py:12: SettingWithCopyWarning: \n",
      "A value is trying to be set on a copy of a slice from a DataFrame\n",
      "\n",
      "See the caveats in the documentation: https://pandas.pydata.org/pandas-docs/stable/user_guide/indexing.html#returning-a-view-versus-a-copy\n",
      "  subset_data.dropna(subset=subset_columns, inplace=True)\n"
     ]
    },
    {
     "name": "stdout",
     "output_type": "stream",
     "text": [
      "Done for 2012\n"
     ]
    },
    {
     "name": "stderr",
     "output_type": "stream",
     "text": [
      "/var/folders/3k/r09dxnws45j1x__8rtq396100000gn/T/ipykernel_57273/2824285735.py:10: SettingWithCopyWarning: \n",
      "A value is trying to be set on a copy of a slice from a DataFrame.\n",
      "Try using .loc[row_indexer,col_indexer] = value instead\n",
      "\n",
      "See the caveats in the documentation: https://pandas.pydata.org/pandas-docs/stable/user_guide/indexing.html#returning-a-view-versus-a-copy\n",
      "  subset_data['ARR_DELAY_CODE'] = subset_data[['ARR_DELAY', 'CARRIER_DELAY', 'WEATHER_DELAY', 'NAS_DELAY', 'SECURITY_DELAY', 'LATE_AIRCRAFT_DELAY']].apply(lambda x: get_delay_code(x), axis = 1)\n",
      "/var/folders/3k/r09dxnws45j1x__8rtq396100000gn/T/ipykernel_57273/2824285735.py:11: SettingWithCopyWarning: \n",
      "A value is trying to be set on a copy of a slice from a DataFrame\n",
      "\n",
      "See the caveats in the documentation: https://pandas.pydata.org/pandas-docs/stable/user_guide/indexing.html#returning-a-view-versus-a-copy\n",
      "  subset_data.drop(columns=cols_to_drop, inplace = True)\n",
      "/var/folders/3k/r09dxnws45j1x__8rtq396100000gn/T/ipykernel_57273/2824285735.py:12: SettingWithCopyWarning: \n",
      "A value is trying to be set on a copy of a slice from a DataFrame\n",
      "\n",
      "See the caveats in the documentation: https://pandas.pydata.org/pandas-docs/stable/user_guide/indexing.html#returning-a-view-versus-a-copy\n",
      "  subset_data.dropna(subset=subset_columns, inplace=True)\n"
     ]
    },
    {
     "name": "stdout",
     "output_type": "stream",
     "text": [
      "Done for 2013\n"
     ]
    },
    {
     "name": "stderr",
     "output_type": "stream",
     "text": [
      "/var/folders/3k/r09dxnws45j1x__8rtq396100000gn/T/ipykernel_57273/2824285735.py:10: SettingWithCopyWarning: \n",
      "A value is trying to be set on a copy of a slice from a DataFrame.\n",
      "Try using .loc[row_indexer,col_indexer] = value instead\n",
      "\n",
      "See the caveats in the documentation: https://pandas.pydata.org/pandas-docs/stable/user_guide/indexing.html#returning-a-view-versus-a-copy\n",
      "  subset_data['ARR_DELAY_CODE'] = subset_data[['ARR_DELAY', 'CARRIER_DELAY', 'WEATHER_DELAY', 'NAS_DELAY', 'SECURITY_DELAY', 'LATE_AIRCRAFT_DELAY']].apply(lambda x: get_delay_code(x), axis = 1)\n",
      "/var/folders/3k/r09dxnws45j1x__8rtq396100000gn/T/ipykernel_57273/2824285735.py:11: SettingWithCopyWarning: \n",
      "A value is trying to be set on a copy of a slice from a DataFrame\n",
      "\n",
      "See the caveats in the documentation: https://pandas.pydata.org/pandas-docs/stable/user_guide/indexing.html#returning-a-view-versus-a-copy\n",
      "  subset_data.drop(columns=cols_to_drop, inplace = True)\n",
      "/var/folders/3k/r09dxnws45j1x__8rtq396100000gn/T/ipykernel_57273/2824285735.py:12: SettingWithCopyWarning: \n",
      "A value is trying to be set on a copy of a slice from a DataFrame\n",
      "\n",
      "See the caveats in the documentation: https://pandas.pydata.org/pandas-docs/stable/user_guide/indexing.html#returning-a-view-versus-a-copy\n",
      "  subset_data.dropna(subset=subset_columns, inplace=True)\n"
     ]
    },
    {
     "name": "stdout",
     "output_type": "stream",
     "text": [
      "Done for 2014\n"
     ]
    },
    {
     "name": "stderr",
     "output_type": "stream",
     "text": [
      "/var/folders/3k/r09dxnws45j1x__8rtq396100000gn/T/ipykernel_57273/2824285735.py:10: SettingWithCopyWarning: \n",
      "A value is trying to be set on a copy of a slice from a DataFrame.\n",
      "Try using .loc[row_indexer,col_indexer] = value instead\n",
      "\n",
      "See the caveats in the documentation: https://pandas.pydata.org/pandas-docs/stable/user_guide/indexing.html#returning-a-view-versus-a-copy\n",
      "  subset_data['ARR_DELAY_CODE'] = subset_data[['ARR_DELAY', 'CARRIER_DELAY', 'WEATHER_DELAY', 'NAS_DELAY', 'SECURITY_DELAY', 'LATE_AIRCRAFT_DELAY']].apply(lambda x: get_delay_code(x), axis = 1)\n",
      "/var/folders/3k/r09dxnws45j1x__8rtq396100000gn/T/ipykernel_57273/2824285735.py:11: SettingWithCopyWarning: \n",
      "A value is trying to be set on a copy of a slice from a DataFrame\n",
      "\n",
      "See the caveats in the documentation: https://pandas.pydata.org/pandas-docs/stable/user_guide/indexing.html#returning-a-view-versus-a-copy\n",
      "  subset_data.drop(columns=cols_to_drop, inplace = True)\n",
      "/var/folders/3k/r09dxnws45j1x__8rtq396100000gn/T/ipykernel_57273/2824285735.py:12: SettingWithCopyWarning: \n",
      "A value is trying to be set on a copy of a slice from a DataFrame\n",
      "\n",
      "See the caveats in the documentation: https://pandas.pydata.org/pandas-docs/stable/user_guide/indexing.html#returning-a-view-versus-a-copy\n",
      "  subset_data.dropna(subset=subset_columns, inplace=True)\n"
     ]
    },
    {
     "name": "stdout",
     "output_type": "stream",
     "text": [
      "Done for 2015\n"
     ]
    },
    {
     "name": "stderr",
     "output_type": "stream",
     "text": [
      "/var/folders/3k/r09dxnws45j1x__8rtq396100000gn/T/ipykernel_57273/2824285735.py:10: SettingWithCopyWarning: \n",
      "A value is trying to be set on a copy of a slice from a DataFrame.\n",
      "Try using .loc[row_indexer,col_indexer] = value instead\n",
      "\n",
      "See the caveats in the documentation: https://pandas.pydata.org/pandas-docs/stable/user_guide/indexing.html#returning-a-view-versus-a-copy\n",
      "  subset_data['ARR_DELAY_CODE'] = subset_data[['ARR_DELAY', 'CARRIER_DELAY', 'WEATHER_DELAY', 'NAS_DELAY', 'SECURITY_DELAY', 'LATE_AIRCRAFT_DELAY']].apply(lambda x: get_delay_code(x), axis = 1)\n",
      "/var/folders/3k/r09dxnws45j1x__8rtq396100000gn/T/ipykernel_57273/2824285735.py:11: SettingWithCopyWarning: \n",
      "A value is trying to be set on a copy of a slice from a DataFrame\n",
      "\n",
      "See the caveats in the documentation: https://pandas.pydata.org/pandas-docs/stable/user_guide/indexing.html#returning-a-view-versus-a-copy\n",
      "  subset_data.drop(columns=cols_to_drop, inplace = True)\n",
      "/var/folders/3k/r09dxnws45j1x__8rtq396100000gn/T/ipykernel_57273/2824285735.py:12: SettingWithCopyWarning: \n",
      "A value is trying to be set on a copy of a slice from a DataFrame\n",
      "\n",
      "See the caveats in the documentation: https://pandas.pydata.org/pandas-docs/stable/user_guide/indexing.html#returning-a-view-versus-a-copy\n",
      "  subset_data.dropna(subset=subset_columns, inplace=True)\n"
     ]
    },
    {
     "name": "stdout",
     "output_type": "stream",
     "text": [
      "Done for 2016\n"
     ]
    },
    {
     "name": "stderr",
     "output_type": "stream",
     "text": [
      "/var/folders/3k/r09dxnws45j1x__8rtq396100000gn/T/ipykernel_57273/2824285735.py:10: SettingWithCopyWarning: \n",
      "A value is trying to be set on a copy of a slice from a DataFrame.\n",
      "Try using .loc[row_indexer,col_indexer] = value instead\n",
      "\n",
      "See the caveats in the documentation: https://pandas.pydata.org/pandas-docs/stable/user_guide/indexing.html#returning-a-view-versus-a-copy\n",
      "  subset_data['ARR_DELAY_CODE'] = subset_data[['ARR_DELAY', 'CARRIER_DELAY', 'WEATHER_DELAY', 'NAS_DELAY', 'SECURITY_DELAY', 'LATE_AIRCRAFT_DELAY']].apply(lambda x: get_delay_code(x), axis = 1)\n",
      "/var/folders/3k/r09dxnws45j1x__8rtq396100000gn/T/ipykernel_57273/2824285735.py:11: SettingWithCopyWarning: \n",
      "A value is trying to be set on a copy of a slice from a DataFrame\n",
      "\n",
      "See the caveats in the documentation: https://pandas.pydata.org/pandas-docs/stable/user_guide/indexing.html#returning-a-view-versus-a-copy\n",
      "  subset_data.drop(columns=cols_to_drop, inplace = True)\n",
      "/var/folders/3k/r09dxnws45j1x__8rtq396100000gn/T/ipykernel_57273/2824285735.py:12: SettingWithCopyWarning: \n",
      "A value is trying to be set on a copy of a slice from a DataFrame\n",
      "\n",
      "See the caveats in the documentation: https://pandas.pydata.org/pandas-docs/stable/user_guide/indexing.html#returning-a-view-versus-a-copy\n",
      "  subset_data.dropna(subset=subset_columns, inplace=True)\n"
     ]
    },
    {
     "name": "stdout",
     "output_type": "stream",
     "text": [
      "Done for 2017\n",
      "Done for 2018\n"
     ]
    },
    {
     "name": "stderr",
     "output_type": "stream",
     "text": [
      "/var/folders/3k/r09dxnws45j1x__8rtq396100000gn/T/ipykernel_57273/2824285735.py:10: SettingWithCopyWarning: \n",
      "A value is trying to be set on a copy of a slice from a DataFrame.\n",
      "Try using .loc[row_indexer,col_indexer] = value instead\n",
      "\n",
      "See the caveats in the documentation: https://pandas.pydata.org/pandas-docs/stable/user_guide/indexing.html#returning-a-view-versus-a-copy\n",
      "  subset_data['ARR_DELAY_CODE'] = subset_data[['ARR_DELAY', 'CARRIER_DELAY', 'WEATHER_DELAY', 'NAS_DELAY', 'SECURITY_DELAY', 'LATE_AIRCRAFT_DELAY']].apply(lambda x: get_delay_code(x), axis = 1)\n",
      "/var/folders/3k/r09dxnws45j1x__8rtq396100000gn/T/ipykernel_57273/2824285735.py:11: SettingWithCopyWarning: \n",
      "A value is trying to be set on a copy of a slice from a DataFrame\n",
      "\n",
      "See the caveats in the documentation: https://pandas.pydata.org/pandas-docs/stable/user_guide/indexing.html#returning-a-view-versus-a-copy\n",
      "  subset_data.drop(columns=cols_to_drop, inplace = True)\n",
      "/var/folders/3k/r09dxnws45j1x__8rtq396100000gn/T/ipykernel_57273/2824285735.py:12: SettingWithCopyWarning: \n",
      "A value is trying to be set on a copy of a slice from a DataFrame\n",
      "\n",
      "See the caveats in the documentation: https://pandas.pydata.org/pandas-docs/stable/user_guide/indexing.html#returning-a-view-versus-a-copy\n",
      "  subset_data.dropna(subset=subset_columns, inplace=True)\n"
     ]
    }
   ],
   "source": [
    "data_dict = {}\n",
    "year = 2009\n",
    "while year < 2019:\n",
    "    data_df = pd.read_csv(f'archive (6)/{year}.csv')\n",
    "    subset_data = data_df[data_df.CANCELLED == 1]\n",
    "    null_df = pd.DataFrame(subset_data.isnull().sum() / subset_data.shape[0] * 100)\n",
    "    null_df = null_df.reset_index().rename(columns={'index': 'ColName', 0: 'Percent'})\n",
    "    subset_columns = list(null_df[(null_df.Percent > 0) & (null_df.Percent < 5) ].ColName.unique())\n",
    "    cols_to_drop = list(null_df[null_df.Percent > 75].ColName.unique())\n",
    "    subset_data['ARR_DELAY_CODE'] = subset_data[['ARR_DELAY', 'CARRIER_DELAY', 'WEATHER_DELAY', 'NAS_DELAY', 'SECURITY_DELAY', 'LATE_AIRCRAFT_DELAY']].apply(lambda x: get_delay_code(x), axis = 1)\n",
    "    subset_data.drop(columns=cols_to_drop, inplace = True)\n",
    "    subset_data.dropna(subset=subset_columns, inplace=True)\n",
    "    data_dict[year] = subset_data\n",
    "    print(f\"Done for {year}\")\n",
    "    year = year + 1"
   ]
  },
  {
   "cell_type": "code",
   "execution_count": 55,
   "id": "ba8e83ce",
   "metadata": {},
   "outputs": [
    {
     "data": {
      "text/plain": [
       "(973172, 13)"
      ]
     },
     "execution_count": 55,
     "metadata": {},
     "output_type": "execute_result"
    }
   ],
   "source": [
    "cancelled_data = pd.concat(data_dict.values())\n",
    "cancelled_data.shape"
   ]
  },
  {
   "cell_type": "markdown",
   "id": "016104bf",
   "metadata": {},
   "source": [
    "##### Write the cancellation data to a csv"
   ]
  },
  {
   "cell_type": "code",
   "execution_count": 56,
   "id": "51ff542d",
   "metadata": {},
   "outputs": [],
   "source": [
    "cancelled_data.to_csv('archive (6)/cancelled_data.csv')"
   ]
  }
 ],
 "metadata": {
  "kernelspec": {
   "display_name": "Python 3 (ipykernel)",
   "language": "python",
   "name": "python3"
  },
  "language_info": {
   "codemirror_mode": {
    "name": "ipython",
    "version": 3
   },
   "file_extension": ".py",
   "mimetype": "text/x-python",
   "name": "python",
   "nbconvert_exporter": "python",
   "pygments_lexer": "ipython3",
   "version": "3.10.9"
  }
 },
 "nbformat": 4,
 "nbformat_minor": 5
}
